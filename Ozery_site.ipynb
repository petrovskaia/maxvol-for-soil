{
 "cells": [
  {
   "cell_type": "code",
   "execution_count": 1,
   "metadata": {},
   "outputs": [],
   "source": [
    "import numpy as np\n",
    "import matplotlib\n",
    "import matplotlib.pyplot as plt\n",
    "import osgeo.gdal as gdal\n",
    "import random\n",
    "import itertools\n",
    "import matplotlib.cbook as cbook\n",
    "from maxvol_cut import rect_maxvol_cut, f_penal_2D\n",
    "from tools import norm_data, add_coords, gen_input, extend_score, points_selection_accuracy, f_no_cut, f_cut_eps, calc_score, good_points_brute_force, idx_to_idx\n",
    "%matplotlib inline"
   ]
  },
  {
   "cell_type": "code",
   "execution_count": 2,
   "metadata": {},
   "outputs": [],
   "source": [
    "field = 1\n",
    "number_of_points = 10"
   ]
  },
  {
   "cell_type": "code",
   "execution_count": 3,
   "metadata": {},
   "outputs": [],
   "source": [
    "def norm_data(X, bounds=(-1.0, 1.0), copy=True):\n",
    "    X = np.array(X, copy=copy).T\n",
    "    for i, x in enumerate(X):\n",
    "        # print(len(x))\n",
    "        min_v, max_v = np.min(x), np.max(x)\n",
    "        b = (bounds[0]*max_v - bounds[1]*min_v)/(max_v-min_v)\n",
    "        k = float(bounds[1] - bounds[0])/(max_v-min_v)\n",
    "        X[i] *= k\n",
    "        X[i] += b\n",
    "\n",
    "    return X.T\n",
    "\n",
    "def add_coords(X=None, size=(285, 217), order='C', idx_good_mask=None):\n",
    "    \"\"\"\n",
    "    order can by 'C' or 'F'\n",
    "    \"\"\"\n",
    "    w, h = size\n",
    "    x_coord, y_coord = np.meshgrid(np.arange(h), np.arange(w))\n",
    "    if idx_good_mask is None:\n",
    "        idx_good_mask = np.arange(x_coord.size)\n",
    "\n",
    "    if X is None:\n",
    "        return np.hstack((\n",
    "            x_coord.flatten(order=order)[idx_good_mask, None],\n",
    "            y_coord.flatten(order=order)[idx_good_mask, None]))\n",
    "\n",
    "    else:\n",
    "        return np.hstack((np.array(X, copy=False),\n",
    "                          x_coord.flatten(order=order)[idx_good_mask, None],\n",
    "                          y_coord.flatten(order=order)[idx_good_mask, None]))\n"
   ]
  },
  {
   "cell_type": "code",
   "execution_count": 4,
   "metadata": {},
   "outputs": [],
   "source": [
    "dr = '/workspace/maxvol/Variables_ozery/'+str(field)\n",
    "import os\n",
    "names = list(filter(lambda fl: fl.endswith('.tif'), os.listdir(dr)))\n",
    "files = list(map(lambda x: gdal.Open(os.path.join(dr, x)), names))\n",
    "arrays = list(map(lambda x: x.ReadAsArray().flatten(), files)) #[150:850,1100:1900]\n",
    "nodatas = list(map(lambda x: x.GetRasterBand(1).GetNoDataValue(), files))\n",
    "names = list(map(lambda x: x.replace('.tif','').split('_')[0], names))\n",
    "shapes = [x.ReadAsArray().shape for x in files]"
   ]
  },
  {
   "cell_type": "code",
   "execution_count": 5,
   "metadata": {},
   "outputs": [],
   "source": [
    "dem_raw = gdal.Open(('/workspace/maxvol/Variables_ozery/')+str(field)+str('/DEM_f')+str(field)+str('.tif'))\n",
    "dem = dem_raw.ReadAsArray() #[150:850,1100:1900]\n",
    "dem_flat = dem.flatten()\n",
    "dem_nodata = dem_raw.GetRasterBand(1).GetNoDataValue()\n",
    "init_dem_shape = dem.shape"
   ]
  },
  {
   "cell_type": "code",
   "execution_count": 6,
   "metadata": {},
   "outputs": [],
   "source": [
    "#delete nodata\n",
    "idx_nodata_0 = np.where(arrays[0] == nodatas[0])[0]\n",
    "arrays_no_nodatas = np.zeros((len(arrays[0])-len(idx_nodata_0), len(arrays)))\n",
    "\n",
    "idx_dem_nodata = np.where(dem_flat == dem_nodata)[0]\n",
    "idx_dem = np.where(arrays[0] != nodatas[0])[0]\n",
    "dem_no_nodata = np.delete(dem_flat, idx_nodata_0)\n",
    "\n",
    "for i in range(len(arrays)):\n",
    "    idx_nodata = np.where(arrays[i] == nodatas[i])[0]\n",
    "    array = arrays[i].copy()\n",
    "    array[idx_nodata]=0\n",
    "    arrays_no_nodatas[:,i]  = np.delete(array, idx_nodata_0)"
   ]
  },
  {
   "cell_type": "code",
   "execution_count": 7,
   "metadata": {},
   "outputs": [],
   "source": [
    "data_arr = arrays_no_nodatas.copy()"
   ]
  },
  {
   "cell_type": "code",
   "execution_count": 8,
   "metadata": {},
   "outputs": [],
   "source": [
    "#data mode selection\n",
    "mode = 3 # Change to 0, 1, 2 or 3\n",
    "modes = ['usual', 'normed',\n",
    "         'XY', 'XY_normed']\n",
    "\n",
    "X, fn_X_embedded = gen_input(mode, data_arr, shapes, idx_dem)"
   ]
  },
  {
   "cell_type": "code",
   "execution_count": 16,
   "metadata": {},
   "outputs": [
    {
     "ename": "NameError",
     "evalue": "name 'data_arr' is not defined",
     "output_type": "error",
     "traceback": [
      "\u001b[0;31m---------------------------------------------------------------------------\u001b[0m",
      "\u001b[0;31mNameError\u001b[0m                                 Traceback (most recent call last)",
      "\u001b[0;32m<ipython-input-16-6ae697c3c30c>\u001b[0m in \u001b[0;36m<module>\u001b[0;34m\u001b[0m\n\u001b[0;32m----> 1\u001b[0;31m \u001b[0;32mdef\u001b[0m \u001b[0mf_cut_eps\u001b[0m\u001b[0;34m(\u001b[0m\u001b[0midx\u001b[0m\u001b[0;34m,\u001b[0m \u001b[0mi\u001b[0m\u001b[0;34m,\u001b[0m \u001b[0mX\u001b[0m\u001b[0;34m=\u001b[0m\u001b[0mdata_arr\u001b[0m\u001b[0;34m,\u001b[0m \u001b[0meps\u001b[0m\u001b[0;34m=\u001b[0m\u001b[0;36m0.1\u001b[0m\u001b[0;34m,\u001b[0m \u001b[0mcopy\u001b[0m\u001b[0;34m=\u001b[0m\u001b[0;32mFalse\u001b[0m\u001b[0;34m)\u001b[0m\u001b[0;34m:\u001b[0m\u001b[0;34m\u001b[0m\u001b[0;34m\u001b[0m\u001b[0m\n\u001b[0m\u001b[1;32m      2\u001b[0m     \u001b[0;32mif\u001b[0m \u001b[0mcopy\u001b[0m\u001b[0;34m:\u001b[0m\u001b[0;34m\u001b[0m\u001b[0;34m\u001b[0m\u001b[0m\n\u001b[1;32m      3\u001b[0m         \u001b[0midx\u001b[0m \u001b[0;34m=\u001b[0m \u001b[0mnp\u001b[0m\u001b[0;34m.\u001b[0m\u001b[0mcopy\u001b[0m\u001b[0;34m(\u001b[0m\u001b[0midx\u001b[0m\u001b[0;34m)\u001b[0m\u001b[0;34m\u001b[0m\u001b[0;34m\u001b[0m\u001b[0m\n\u001b[1;32m      4\u001b[0m     \u001b[0mxx\u001b[0m \u001b[0;34m=\u001b[0m \u001b[0mX\u001b[0m\u001b[0;34m[\u001b[0m\u001b[0;34m:\u001b[0m\u001b[0;34m,\u001b[0m \u001b[0;34m-\u001b[0m\u001b[0;36m2\u001b[0m\u001b[0;34m]\u001b[0m\u001b[0;34m\u001b[0m\u001b[0;34m\u001b[0m\u001b[0m\n\u001b[1;32m      5\u001b[0m     \u001b[0myy\u001b[0m \u001b[0;34m=\u001b[0m \u001b[0mX\u001b[0m\u001b[0;34m[\u001b[0m\u001b[0;34m:\u001b[0m\u001b[0;34m,\u001b[0m \u001b[0;34m-\u001b[0m\u001b[0;36m1\u001b[0m\u001b[0;34m]\u001b[0m\u001b[0;34m\u001b[0m\u001b[0;34m\u001b[0m\u001b[0m\n",
      "\u001b[0;31mNameError\u001b[0m: name 'data_arr' is not defined"
     ]
    }
   ],
   "source": [
    "#function for distance between points\n",
    "f_cut = lambda idx, i : f_cut_eps(idx, i, X=X, eps=0.3)\n",
    "\n",
    "#function for distence from border\n",
    "f_penal = f_penal_2D(X = X[:, -2], Y = X[:, -1], bnd = 0.3, level = 0.3)"
   ]
  },
  {
   "cell_type": "code",
   "execution_count": 284,
   "metadata": {},
   "outputs": [],
   "source": [
    "res = points_selection_accuracy(X[:,1:], n_pnts = number_of_points, cut_fun = f_cut, penalty = f_penal)"
   ]
  },
  {
   "cell_type": "code",
   "execution_count": 286,
   "metadata": {},
   "outputs": [],
   "source": [
    "dem_flat_img = dem_flat.copy()\n",
    "dem_flat_img[np.where(dem_flat == dem_nodata)] = float('NaN')"
   ]
  },
  {
   "cell_type": "code",
   "execution_count": 285,
   "metadata": {},
   "outputs": [
    {
     "data": {
      "text/plain": [
       "[4, 145, 4481, 8507, 9303, 11761, 14128]"
      ]
     },
     "execution_count": 285,
     "metadata": {},
     "output_type": "execute_result"
    }
   ],
   "source": [
    "sorted(res_10[:])"
   ]
  },
  {
   "cell_type": "code",
   "execution_count": 287,
   "metadata": {},
   "outputs": [
    {
     "data": {
      "image/png": "[encoded data removed]",
      "text/plain": [
       "<Figure size 432x288 with 2 Axes>"
      ]
     },
     "metadata": {
      "needs_background": "light"
     },
     "output_type": "display_data"
    }
   ],
   "source": [
    "fig,ax = plt.subplots()\n",
    "\n",
    "#cax = fig.add_axes([0.65, 0.25, 0.02, 0.45])\n",
    "\n",
    "im = ax.imshow(dem_flat_img.reshape(init_dem_shape), cmap = 'jet')\n",
    "XY = add_coords(size=init_dem_shape, idx_good_mask=idx_dem)\n",
    "ax.scatter(XY[res_10[:9], 0], XY[res_10[:9], 1], s=10, color='black')\n",
    "v1 = np.linspace(dem_no_nodata.min(), dem_no_nodata.max(), 5, endpoint=True)\n",
    "\n",
    "plt.colorbar(im, cax=cax, orientation='vertical', ticks = v1, format='%.0f')\n",
    "\n",
    "scalebar = ScaleBar(dx=4.9, location=\"lower center\") # 1 pixel = 0.2 meter\n",
    "#ax.add_artist(scalebar); \n",
    "\n",
    "plt.tick_params(axis='x',which='both',bottom=False,top=False, labelbottom=False)\n",
    "plt.savefig('oz_f'+str(field)+'_pnts.pdf')\n"
   ]
  },
  {
   "cell_type": "code",
   "execution_count": null,
   "metadata": {},
   "outputs": [],
   "source": []
  },
  {
   "cell_type": "code",
   "execution_count": 292,
   "metadata": {},
   "outputs": [
    {
     "data": {
      "text/plain": [
       "array([[38.61959999, 54.86415522],\n",
       "       [38.61717303, 54.85714494],\n",
       "       [38.61667865, 54.86136908],\n",
       "       [38.61577977, 54.85858295],\n",
       "       [38.61263371, 54.85516768],\n",
       "       [38.61533033, 54.85903232],\n",
       "       [38.62180223, 54.8643799 ]])"
      ]
     },
     "execution_count": 292,
     "metadata": {},
     "output_type": "execute_result"
    }
   ],
   "source": [
    "coord_idx"
   ]
  },
  {
   "cell_type": "code",
   "execution_count": 291,
   "metadata": {},
   "outputs": [],
   "source": [
    "xmin, ymin, xmax, ymax = [38.5596900094028996,54.8189928575132015,38.6624762974028968,54.9084188216132034]\n",
    "\n",
    "st = dem_flat_img.reshape(init_dem_shape)\n",
    "\n",
    "xv = np.linspace(xmin,xmax, num=st.shape[1])\n",
    "yv = np.linspace(ymax,ymin, num=st.shape[0])\n",
    "coords = np.meshgrid(xv,yv)\n",
    "\n",
    "mask = idx_dem\n",
    "\n",
    "#select corresponding points by indecies\n",
    "\n",
    "y_c,x_c = coords[0].flatten()[mask, None],coords[1].flatten()[mask, None]\n",
    "y_idx, x_idx = y_c[res_10],x_c[res_10]\n",
    "coord_idx = np.hstack((y_idx,x_idx))\n",
    "\n",
    "np.savetxt('ozery_points_'+str(field)+'.csv', coord_idx, delimiter=';')"
   ]
  },
  {
   "cell_type": "markdown",
   "metadata": {},
   "source": [
    "## Coordinates"
   ]
  },
  {
   "cell_type": "code",
   "execution_count": null,
   "metadata": {},
   "outputs": [],
   "source": []
  },
  {
   "cell_type": "code",
   "execution_count": 290,
   "metadata": {},
   "outputs": [],
   "source": [
    "# idx_dem2 = np.where(dem2_flat != dem_nodata)[0]"
   ]
  },
  {
   "cell_type": "code",
   "execution_count": 289,
   "metadata": {},
   "outputs": [],
   "source": [
    "# dem2_for_size_raw = gdal.Open('/mnt/bulky/apetrovskaya/Variables_ozery/oz_field_1.tif')\n",
    "# dem2_nodata = dem2_for_size_raw.GetRasterBand(1).GetNoDataValue()\n",
    "# dem2_for_size = dem2_for_size_raw.ReadAsArray()\n",
    "# dem2_flat = dem2_for_size.flatten()"
   ]
  },
  {
   "cell_type": "code",
   "execution_count": 288,
   "metadata": {},
   "outputs": [],
   "source": [
    "#  fig, axs = plt.subplots(nrows=3, ncols=3, # figsize=(9, 6),\n",
    "#                         subplot_kw={'xticks': [], 'yticks': []})\n",
    "\n",
    "# for ax, interp_method in zip(axs.flat, methods):\n",
    "#     ax.imshow(grid, interpolation=interp_method, cmap='viridis')\n",
    "#     ax.set_title(str(interp_method))\n",
    "\n",
    "# plt.tight_layout()\n",
    "# plt.show()"
   ]
  }
 ],
 "metadata": {
  "kernelspec": {
   "display_name": "Python 3",
   "language": "python",
   "name": "python3"
  },
  "language_info": {
   "codemirror_mode": {
    "name": "ipython",
    "version": 3
   },
   "file_extension": ".py",
   "mimetype": "text/x-python",
   "name": "python",
   "nbconvert_exporter": "python",
   "pygments_lexer": "ipython3",
   "version": "3.8.2"
  }
 },
 "nbformat": 4,
 "nbformat_minor": 2
}
